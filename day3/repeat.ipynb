{
 "cells": [
  {
   "cell_type": "code",
   "execution_count": 1,
   "metadata": {},
   "outputs": [
    {
     "name": "stdout",
     "output_type": "stream",
     "text": [
      "['a', 'b', 'c']\n"
     ]
    }
   ],
   "source": [
    "# 복습\n",
    "\n",
    "a = list(\"abc\")\n",
    "\n",
    "print(a)"
   ]
  },
  {
   "cell_type": "markdown",
   "metadata": {},
   "source": [
    "# for문"
   ]
  },
  {
   "cell_type": "code",
   "execution_count": 7,
   "metadata": {},
   "outputs": [
    {
     "name": "stdout",
     "output_type": "stream",
     "text": [
      "1\n",
      "1\n",
      "2\n",
      "4\n",
      "3\n",
      "9\n",
      "a\n",
      "b\n",
      "c\n"
     ]
    }
   ],
   "source": [
    "#  list 말고도 반복가능한 객체가 있다면 for문에 들어올 수 있다.\n",
    "\n",
    "list_ = list(\"abc\")   ## list_ = ['a','b','c']\n",
    "tuple_  = (1,2,3)\n",
    "\n",
    "for a in tuple_:\n",
    "  print(a)\n",
    "  print(a*a)\n",
    "  \n",
    "for b in list_:\n",
    "  print(b)\n",
    "\n",
    "# 리스트 안에 원소를 하나씩 늘려나가며 출력하기\n",
    "  \n",
    "mystr=\"\"\n",
    "for b in list_:\n",
    "  mystr = mystr + b\n",
    "  \n",
    "  print(mystr)"
   ]
  },
  {
   "cell_type": "code",
   "execution_count": 2,
   "metadata": {},
   "outputs": [
    {
     "name": "stdout",
     "output_type": "stream",
     "text": [
      "0\n",
      "1\n",
      "2\n",
      "3\n",
      "4\n",
      "5\n",
      "6\n",
      "7\n",
      "8\n",
      "9\n",
      "[0, 1, 2, 3, 4, 5, 6, 7, 8, 9]\n"
     ]
    }
   ],
   "source": [
    "# 끝은 포함 안된다.\n",
    "# range(시작값,끝값,증가값) : 시작값부터 끝값 미만의 값을 반환\n",
    "\n",
    "\n",
    "a = range(10)\n",
    "\n",
    "for i in a:\n",
    "  print(i)\n",
    "\n",
    "# range를 list로 만들고 싶으면\n",
    "print(list(range(10)))"
   ]
  },
  {
   "cell_type": "code",
   "execution_count": 12,
   "metadata": {},
   "outputs": [
    {
     "name": "stdout",
     "output_type": "stream",
     "text": [
      "3\n",
      "4\n",
      "5\n",
      "6\n",
      "7\n",
      "8\n",
      "9\n"
     ]
    }
   ],
   "source": [
    "for i in range(3,10):\n",
    "  print(i)"
   ]
  },
  {
   "cell_type": "code",
   "execution_count": 14,
   "metadata": {},
   "outputs": [
    {
     "name": "stdout",
     "output_type": "stream",
     "text": [
      "apei e\n"
     ]
    }
   ],
   "source": [
    "mystr = \"apple is red\"\n",
    "\n",
    "print(mystr[::2])\n"
   ]
  },
  {
   "cell_type": "code",
   "execution_count": 15,
   "metadata": {},
   "outputs": [
    {
     "name": "stdout",
     "output_type": "stream",
     "text": [
      "10\n",
      "9\n",
      "8\n",
      "7\n",
      "6\n",
      "5\n",
      "4\n",
      "3\n",
      "2\n",
      "1\n",
      "0\n"
     ]
    }
   ],
   "source": [
    "# range도 slice 할 때랑 마찬가지로 (시작,끝,간격)\n",
    "# 역순으로 할 때는 꼭 끝값에 -1을 입력해주자.\n",
    "\n",
    "for i in range(10,-1,-1):\n",
    "  print(i)"
   ]
  },
  {
   "cell_type": "code",
   "execution_count": 3,
   "metadata": {},
   "outputs": [
    {
     "name": "stdout",
     "output_type": "stream",
     "text": [
      "55\n",
      "25\n"
     ]
    }
   ],
   "source": [
    "# 실습1\n",
    "sum_ = 0\n",
    "\n",
    "inp = int(input(\"어디까지 계산할까요?\"))\n",
    "\n",
    "for i in range(1,inp + 1):\n",
    "  \n",
    "  sum_ = sum_ + i\n",
    "  \n",
    "print(sum_)\n",
    "  \n",
    "# 번외\n",
    "\n",
    "sum_ = 0\n",
    "\n",
    "for i in range(1,inp + 1,2):\n",
    "  \n",
    "  sum_ = sum_ + i\n",
    "print(sum_)"
   ]
  },
  {
   "cell_type": "code",
   "execution_count": 6,
   "metadata": {},
   "outputs": [
    {
     "name": "stdout",
     "output_type": "stream",
     "text": [
      "4\n"
     ]
    }
   ],
   "source": [
    "# 비트연산자로 홀짝 구분하기 -> 비트연산이 + 연산 보다 훨씬 빠르다\n",
    "# 홀수라면 i&1 연산 결과 1이된다 -> 홀, 짝 구분\n",
    "n=5\n",
    "mylist = list(range(5))\n",
    "oddsum = 0\n",
    "\n",
    "for i in mylist:\n",
    "  if(i&1):\n",
    "    oddsum +=i\n",
    "  \n",
    "print(oddsum)\n",
    "\n",
    "\n",
    "#기사. 상태 이상 : (11000000) (스턴, 독, 에어본, ....., 혼란)\n",
    "#스턴에 걸렸나?  : (10000000) => &연산"
   ]
  },
  {
   "cell_type": "code",
   "execution_count": 27,
   "metadata": {},
   "outputs": [
    {
     "name": "stdout",
     "output_type": "stream",
     "text": [
      "5 4 3 2 1 발사!\n"
     ]
    }
   ],
   "source": [
    "# 실습2\n",
    "start = int(input(\"몇 초?\"))\n",
    "\n",
    "for i in range(start,0,-1):\n",
    "  print(i,end=\" \")\n",
    "  \n",
    "print('발사!')\n",
    "\n"
   ]
  },
  {
   "cell_type": "code",
   "execution_count": 39,
   "metadata": {},
   "outputs": [
    {
     "name": "stdout",
     "output_type": "stream",
     "text": [
      "9*1 = 9\n",
      "9*2 = 18\n",
      "9*3 = 27\n",
      "9*4 = 36\n",
      "9*5 = 45\n",
      "9*6 = 54\n",
      "9*7 = 63\n",
      "9*8 = 72\n",
      "9*9 = 81\n",
      "9단을 출력했습니다\n"
     ]
    }
   ],
   "source": [
    "# 실습3\n",
    "\n",
    "mult = int(input(\"몇 단을 출력할까요?\"))\n",
    "\n",
    "\n",
    "for i in range(1,10):\n",
    "  print(f'{mult}*{i} = {mult*i}')\n",
    "  \n",
    "print(f'{mult}단을 출력했습니다')"
   ]
  },
  {
   "cell_type": "code",
   "execution_count": 40,
   "metadata": {},
   "outputs": [
    {
     "name": "stdout",
     "output_type": "stream",
     "text": [
      "안녕하세요\n",
      "안녕하세요\n",
      "안녕하세요\n",
      "안녕하세요\n",
      "안녕하세요\n",
      "안녕하세요\n",
      "안녕하세요\n",
      "안녕하세요\n",
      "안녕하세요\n",
      "안녕하세요\n"
     ]
    }
   ],
   "source": [
    "# tip 그냥 반복할 때\n",
    "for _ in range(10):\n",
    "  print(\"안녕하세요\")"
   ]
  },
  {
   "cell_type": "code",
   "execution_count": 42,
   "metadata": {},
   "outputs": [
    {
     "name": "stdout",
     "output_type": "stream",
     "text": [
      "y=0, x = 0\n",
      "y=0, x = 1\n",
      "\n",
      "y=1, x = 0\n",
      "y=1, x = 1\n",
      "\n",
      "y=2, x = 0\n",
      "y=2, x = 1\n",
      "\n"
     ]
    }
   ],
   "source": [
    "for y in range(3):\n",
    "  for x in range(2):\n",
    "    print(f'y={y}, x = {x}')\n",
    "  print()"
   ]
  },
  {
   "cell_type": "code",
   "execution_count": 45,
   "metadata": {},
   "outputs": [
    {
     "name": "stdout",
     "output_type": "stream",
     "text": [
      "1 * 1 = 1\n",
      "1 * 2 = 2\n",
      "1 * 3 = 3\n",
      "1 * 4 = 4\n",
      "1 * 5 = 5\n",
      "1 * 6 = 6\n",
      "1 * 7 = 7\n",
      "1 * 8 = 8\n",
      "1 * 9 = 9\n",
      "\n",
      "2 * 1 = 2\n",
      "2 * 2 = 4\n",
      "2 * 3 = 6\n",
      "2 * 4 = 8\n",
      "2 * 5 = 10\n",
      "2 * 6 = 12\n",
      "2 * 7 = 14\n",
      "2 * 8 = 16\n",
      "2 * 9 = 18\n",
      "\n",
      "3 * 1 = 3\n",
      "3 * 2 = 6\n",
      "3 * 3 = 9\n",
      "3 * 4 = 12\n",
      "3 * 5 = 15\n",
      "3 * 6 = 18\n",
      "3 * 7 = 21\n",
      "3 * 8 = 24\n",
      "3 * 9 = 27\n",
      "\n",
      "4 * 1 = 4\n",
      "4 * 2 = 8\n",
      "4 * 3 = 12\n",
      "4 * 4 = 16\n",
      "4 * 5 = 20\n",
      "4 * 6 = 24\n",
      "4 * 7 = 28\n",
      "4 * 8 = 32\n",
      "4 * 9 = 36\n",
      "\n",
      "5 * 1 = 5\n",
      "5 * 2 = 10\n",
      "5 * 3 = 15\n",
      "5 * 4 = 20\n",
      "5 * 5 = 25\n",
      "5 * 6 = 30\n",
      "5 * 7 = 35\n",
      "5 * 8 = 40\n",
      "5 * 9 = 45\n",
      "\n",
      "6 * 1 = 6\n",
      "6 * 2 = 12\n",
      "6 * 3 = 18\n",
      "6 * 4 = 24\n",
      "6 * 5 = 30\n",
      "6 * 6 = 36\n",
      "6 * 7 = 42\n",
      "6 * 8 = 48\n",
      "6 * 9 = 54\n",
      "\n",
      "7 * 1 = 7\n",
      "7 * 2 = 14\n",
      "7 * 3 = 21\n",
      "7 * 4 = 28\n",
      "7 * 5 = 35\n",
      "7 * 6 = 42\n",
      "7 * 7 = 49\n",
      "7 * 8 = 56\n",
      "7 * 9 = 63\n",
      "\n",
      "8 * 1 = 8\n",
      "8 * 2 = 16\n",
      "8 * 3 = 24\n",
      "8 * 4 = 32\n",
      "8 * 5 = 40\n",
      "8 * 6 = 48\n",
      "8 * 7 = 56\n",
      "8 * 8 = 64\n",
      "8 * 9 = 72\n",
      "\n",
      "9 * 1 = 9\n",
      "9 * 2 = 18\n",
      "9 * 3 = 27\n",
      "9 * 4 = 36\n",
      "9 * 5 = 45\n",
      "9 * 6 = 54\n",
      "9 * 7 = 63\n",
      "9 * 8 = 72\n",
      "9 * 9 = 81\n",
      "\n"
     ]
    }
   ],
   "source": [
    "# 전체 구구단 만들기\n",
    "for x in range(1,10):\n",
    "  for y in range(1,10):\n",
    "    print(f'{x} * {y} = {x*y}')\n",
    "  print()"
   ]
  },
  {
   "cell_type": "markdown",
   "metadata": {},
   "source": [
    "# while 문\n",
    "  - 참일 때까지 반복"
   ]
  },
  {
   "cell_type": "code",
   "execution_count": 46,
   "metadata": {},
   "outputs": [
    {
     "name": "stdout",
     "output_type": "stream",
     "text": [
      "0\n",
      "1\n",
      "2\n",
      "3\n",
      "4\n",
      "5\n",
      "끝\n"
     ]
    }
   ],
   "source": [
    "\n",
    "count = 0\n",
    "\n",
    "while(count<=5):\n",
    "  print(count)\n",
    "  count = count + 1\n",
    "print(\"끝\")"
   ]
  },
  {
   "cell_type": "code",
   "execution_count": 47,
   "metadata": {},
   "outputs": [
    {
     "name": "stdout",
     "output_type": "stream",
     "text": [
      "야\n",
      "뭐\n",
      "어쩌라고\n",
      "뭐할래\n"
     ]
    }
   ],
   "source": [
    "while True:\n",
    "  launch = input(\"뭐먹을래?\")\n",
    "  print(launch)\n",
    "print(\"done\")"
   ]
  },
  {
   "cell_type": "code",
   "execution_count": null,
   "metadata": {},
   "outputs": [],
   "source": [
    "# break문 : 중도 탈출\n",
    "# continue : continue를 만나면 아래를 실행하지 않고 다시 while의 조건문으로 돌아감"
   ]
  },
  {
   "cell_type": "code",
   "execution_count": 20,
   "metadata": {},
   "outputs": [
    {
     "name": "stdout",
     "output_type": "stream",
     "text": [
      "*\n",
      "**\n",
      "***\n"
     ]
    }
   ],
   "source": [
    "# 실습4-1\n",
    "\n",
    "count = int(input(\"몇 줄?\"))\n",
    "x=1\n",
    "\n",
    "while x <= count:\n",
    "  print(\"*\"*x)\n",
    "  x = x + 1"
   ]
  },
  {
   "cell_type": "code",
   "execution_count": 28,
   "metadata": {},
   "outputs": [
    {
     "name": "stdout",
     "output_type": "stream",
     "text": [
      "    *\n",
      "   **\n",
      "  ***\n",
      " ****\n",
      "*****\n"
     ]
    }
   ],
   "source": [
    "# 실습4-2\n",
    "count = int(input(\"몇 줄?\"))\n",
    "x=1\n",
    "\n",
    "while x <= count:\n",
    "  print(\" \"*(count-x) + \"*\"*x)\n",
    "  x = x + 1"
   ]
  },
  {
   "cell_type": "code",
   "execution_count": 29,
   "metadata": {},
   "outputs": [
    {
     "name": "stdout",
     "output_type": "stream",
     "text": [
      "    *\n",
      "   ***\n",
      "  *****\n",
      " *******\n",
      "*********\n"
     ]
    }
   ],
   "source": [
    "# 실습4-3\n",
    "\n",
    "count = int(input(\"몇 줄?\"))\n",
    "x=1\n",
    "\n",
    "while x <= count:\n",
    "  b = 2*x - 1\n",
    "  print(\" \"*(count-x) + \"*\"*b)\n",
    "  x = x + 1"
   ]
  },
  {
   "cell_type": "code",
   "execution_count": 3,
   "metadata": {},
   "outputs": [
    {
     "name": "stdout",
     "output_type": "stream",
     "text": [
      "가장 큰 값 : 5\n",
      "가장 작은 값 : 1\n",
      "나머지 값의 평균 : 3.0\n"
     ]
    }
   ],
   "source": [
    "# 실습5\n",
    "\n",
    "#list 만들기\n",
    "a = input(\"숫자 여러 개 입력\")\n",
    "b = a.split()\n",
    "\n",
    "# b의 원소 각각을 int type으로 변환\n",
    "b = list(map(int,b))\n",
    "\n",
    "#제일 큰 수와 제일 작은 수 출력\n",
    "print(f'가장 큰 값 : {max(b)}')\n",
    "print(f'가장 작은 값 : {min(b)}')\n",
    "\n",
    "# 위 두 수를 빼고 나머지 값들의 평균 구하기\n",
    "b.remove(max(b))\n",
    "b.remove(min(b))\n",
    "\n",
    "sum = 0\n",
    "\n",
    "for i in b:\n",
    "  sum = sum + i\n",
    "\n",
    "print(f'나머지 값의 평균 : {sum/len(b)}')\n"
   ]
  },
  {
   "cell_type": "code",
   "execution_count": null,
   "metadata": {},
   "outputs": [],
   "source": [
    "numbers = [int(x) for x in input(\"다섯 개의 숫자를 입력하세요: \").split()]\n",
    "numbers = [int(x) for x in ['10','20','30']]\n",
    "numbers = [10,20,30]"
   ]
  },
  {
   "cell_type": "code",
   "execution_count": null,
   "metadata": {},
   "outputs": [],
   "source": [
    "# map(a,[1,2,3,4,5]) : a라는 함수를 1,2,3,4,5에 각각 적용시킨다"
   ]
  },
  {
   "cell_type": "code",
   "execution_count": 78,
   "metadata": {},
   "outputs": [
    {
     "name": "stdout",
     "output_type": "stream",
     "text": [
      "<class 'range'>\n",
      "<class 'str'>\n",
      "<class 'list'>\n",
      "<class 'int'>\n",
      "<class 'float'>\n",
      "(10, 20)\n",
      "<class 'map'>\n"
     ]
    },
    {
     "data": {
      "text/plain": [
       "[10.0, 20.0]"
      ]
     },
     "execution_count": 78,
     "metadata": {},
     "output_type": "execute_result"
    }
   ],
   "source": [
    "print(type(range(10)))\n",
    "print(type(\"abc\"))\n",
    "print(type([1,2,3,4]))\n",
    "print(type(10))\n",
    "print(type(12.3))\n",
    "print((10,20))\n",
    "\n",
    "a=['10','20']\n",
    "\n",
    "print(type(map(float,a)))\n",
    "list(map(float,a))"
   ]
  },
  {
   "cell_type": "code",
   "execution_count": 88,
   "metadata": {},
   "outputs": [
    {
     "name": "stdout",
     "output_type": "stream",
     "text": [
      "['321', '32213', '533', '645', '98', '546']\n"
     ]
    }
   ],
   "source": [
    "b = [321,32213,533,645,98,546]\n",
    "b_1 = list(map(str,b))\n",
    "print(b_1)"
   ]
  },
  {
   "cell_type": "code",
   "execution_count": null,
   "metadata": {},
   "outputs": [],
   "source": [
    "# 셋(set) : 집합을 표현 / 요소의 존재 여부 확인할 때 중복 없는지 확인할 때\n",
    "# in : 반복 가능한 객체에 쓰이고, 존재 여부 확인할 때도\n",
    "\n",
    "# 딕셔너리\n",
    "# 키 값으로 휴대폰 넣으면 -> 번호라는 값이 나온다"
   ]
  },
  {
   "cell_type": "code",
   "execution_count": 9,
   "metadata": {},
   "outputs": [
    {
     "name": "stdout",
     "output_type": "stream",
     "text": [
      "[1, 2, 3, 4, 5, 6, 7, 8, 9, 10]\n"
     ]
    }
   ],
   "source": [
    "# 과제 1 ver.1\n",
    "num = int(input(\"정수 n을 입력하세요\"))\n",
    "mylist = []\n",
    "\n",
    "for i in range(1,num+1):\n",
    "  mylist.append(i)\n",
    "\n",
    "print(mylist)\n",
    "\n",
    "# 홀수만 출력\n",
    "num = int(input(\"정수 n을 입력하세요\"))\n",
    "mylist = []\n",
    "\n",
    "for i in range(1,num+1,2):\n",
    "  mylist.append(i)\n",
    "\n",
    "print(mylist)\n",
    "\n",
    "# 짝수만 출력\n",
    "num = int(input(\"정수 n을 입력하세요\"))\n",
    "mylist = []\n",
    "\n",
    "for i in range(2,num+1,2):\n",
    "  mylist.append(i)\n",
    "\n",
    "print(mylist)\n",
    "\n",
    "# 각각의 리스트를 만들라고 하면 이렇게 해야겠지만, 출력만 해도 된다면 필요 이상으로 길다."
   ]
  },
  {
   "cell_type": "code",
   "execution_count": 14,
   "metadata": {},
   "outputs": [
    {
     "name": "stdout",
     "output_type": "stream",
     "text": [
      "[1, 2, 3, 4, 5, 6, 7, 8, 9, 10]\n",
      "홀수만 출력: [1, 3, 5, 7, 9]\n",
      "짝수만 출력: [2, 4, 6, 8, 10]\n"
     ]
    }
   ],
   "source": [
    "# 과제 1 ver.2\n",
    "num = int(input(\"정수 n을 입력하세요\"))\n",
    "mylist = []\n",
    "\n",
    "for i in range(1,num+1):\n",
    "  mylist.append(i)\n",
    "\n",
    "print(mylist)\n",
    "print(\"홀수만 출력:\", mylist[::2])\n",
    "print(\"짝수만 출력:\", mylist[1::2])"
   ]
  },
  {
   "cell_type": "code",
   "execution_count": 1,
   "metadata": {},
   "outputs": [
    {
     "name": "stdout",
     "output_type": "stream",
     "text": [
      "=================RESTART\n",
      "마시고 싶은 음료? 포카리\n",
      "포카리는 지금 없네요\n"
     ]
    }
   ],
   "source": [
    "# 과제2\n",
    "\n",
    "# 변수 설정\n",
    "vending_machine = ['게토레이','레쓰비','생수','이프로']\n",
    "bev = input(\"마시고 싶은 음료?\")\n",
    "\n",
    "print('=================RESTART')\n",
    "print('마시고 싶은 음료?',bev)\n",
    "if bev in vending_machine:\n",
    "  print(bev,'드릴게요')\n",
    "\n",
    "else:\n",
    "    print(bev, '는 지금 없네요',sep=\"\")"
   ]
  },
  {
   "cell_type": "code",
   "execution_count": 9,
   "metadata": {},
   "outputs": [
    {
     "name": "stdout",
     "output_type": "stream",
     "text": [
      "없음\n"
     ]
    }
   ],
   "source": [
    "# 과제 3\n",
    "\n",
    "# 변수 설정\n",
    "vending_machine = ['게토레이','게토레이','레쓰비','레쓰비','생수','생수','이프로']\n",
    "\n",
    "  \n",
    "while True:\n",
    "  user = input('사용자 종류를 입력하세요:\\n 1.소비자 or\\n2.주인')\n",
    "  if user == '소비자' or user =='주인':\n",
    "    break\n",
    "\n",
    "\n",
    "if user == '1' or user == '소비자':\n",
    "  bev = input(\"마시고 싶은 음료?\")\n",
    "  if bev in vending_machine:\n",
    "      vending_machine.remove(bev)\n",
    "      print(bev,'드릴게요')\n",
    "      print('남은 음료수: ',vending_machine)\n",
    "  else :\n",
    "      print(\"없음\")\n",
    "elif user == '2'or user == '주인':\n",
    "  ad = input('할 일 선택 : \\n1.추가 \\nor 2.삭제')\n",
    "  if ad == '1' or ad == '추가':\n",
    "    add_bev = input('추가할 음료수를 입력하세요')\n",
    "    vending_machine.append(add_bev)\n",
    "    vending_machine.sort()\n",
    "    print('추가완료')\n",
    "  elif ad == '2' or ad == '삭제':\n",
    "    del_bev = input('삭제할 음료수를 입력하세요')\n",
    "    if del_bev in vending_machine:\n",
    "        vending_machine.remove(del_bev)\n",
    "        print('삭제완료')\n",
    "    else :\n",
    "        print('없음')\n",
    "  else :\n",
    "    print('다시 입력해주세요')\n",
    "else :\n",
    "  print('다시 입력해주세요')"
   ]
  },
  {
   "cell_type": "code",
   "execution_count": 14,
   "metadata": {},
   "outputs": [
    {
     "name": "stdout",
     "output_type": "stream",
     "text": [
      "[1, 2, 'fizz', 4, 'buzz', 'fizz', 7, 8, 'fizz', 'buzz', 11, 'fizz', 13, 14, 'fizzbuzz']\n"
     ]
    }
   ],
   "source": [
    "# 과제 4\n",
    "num = int(input(\"정수 n을 입력하세요\"))\n",
    "mylist = []\n",
    "\n",
    "for i in range(1,num+1):\n",
    "  if (not i%3): # 3의 배수\n",
    "    if(not i%5): # 3의 배수, 5의 배수\n",
    "      mylist.append(\"fizzbuzz\")\n",
    "    else : # 3의 배수, 5의 배수x\n",
    "      mylist.append(\"fizz\")\n",
    "  elif (not i%5): # 5의 배수\n",
    "    mylist.append(\"buzz\")\n",
    "  else: # 나머지\n",
    "    mylist.append(i)\n",
    "print(mylist)\n",
    "    "
   ]
  },
  {
   "cell_type": "code",
   "execution_count": 25,
   "metadata": {},
   "outputs": [
    {
     "name": "stdout",
     "output_type": "stream",
     "text": [
      "['박재범', '유재석', '카리나', 'bts', '손흥민']\n",
      "[38, 50, 21, 30, 32]\n",
      "34.2\n",
      "{'박재범': 38, '카리나': 21, 'bts': 30, '손흥민': 32}\n"
     ]
    },
    {
     "data": {
      "text/plain": [
       "False"
      ]
     },
     "execution_count": 25,
     "metadata": {},
     "output_type": "execute_result"
    }
   ],
   "source": [
    "# 딕셔너리 만들기\n",
    "ent = {'박재범':38,'유재석':50,'카리나':21,'bts':30,'손흥민':32}\n",
    "\n",
    "# key, value값 리스트화\n",
    "name = list(ent.keys())\n",
    "age = list(ent.values())\n",
    "\n",
    "print(name)\n",
    "print(age)\n",
    "\n",
    "\n",
    "# value의 평균 구하기\n",
    "sum=0\n",
    "\n",
    "for i in age:\n",
    "  sum += i\n",
    "avg = sum / len(age)\n",
    "print(avg)\n",
    "\n",
    "# 가장 나이가 많은 연예인 dictionary에서 빼기\n",
    "\n",
    "old_man = max(ent,key=ent.get)\n",
    "ent.pop(old_man)\n",
    "print(ent)\n",
    "\n",
    "'''\n",
    "del ent[old_man]\n",
    "print(ent)\n",
    "'''\n",
    "\n",
    "# 새로운 연예인 추가\n",
    "ent['안정환']=47\n",
    "\n",
    "# 페이커가 dictionary안에 존재하는지 확인\n",
    "\n",
    "\"페이커\" in ent\n"
   ]
  },
  {
   "cell_type": "code",
   "execution_count": null,
   "metadata": {},
   "outputs": [],
   "source": [
    "\n"
   ]
  }
 ],
 "metadata": {
  "kernelspec": {
   "display_name": "base",
   "language": "python",
   "name": "python3"
  },
  "language_info": {
   "codemirror_mode": {
    "name": "ipython",
    "version": 3
   },
   "file_extension": ".py",
   "mimetype": "text/x-python",
   "name": "python",
   "nbconvert_exporter": "python",
   "pygments_lexer": "ipython3",
   "version": "3.11.5"
  }
 },
 "nbformat": 4,
 "nbformat_minor": 2
}
