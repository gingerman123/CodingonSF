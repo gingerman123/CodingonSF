{
 "cells": [
  {
   "cell_type": "code",
   "execution_count": 4,
   "metadata": {},
   "outputs": [
    {
     "name": "stdout",
     "output_type": "stream",
     "text": [
      "hello world\n"
     ]
    }
   ],
   "source": [
    "print(\"hello world\")"
   ]
  },
  {
   "cell_type": "code",
   "execution_count": 5,
   "metadata": {},
   "outputs": [
    {
     "name": "stdout",
     "output_type": "stream",
     "text": [
      "7\n"
     ]
    }
   ],
   "source": [
    "a = 3\n",
    "b = 4\n"
   ]
  },
  {
   "cell_type": "code",
   "execution_count": 8,
   "metadata": {},
   "outputs": [
    {
     "name": "stdout",
     "output_type": "stream",
     "text": [
      "7\n"
     ]
    }
   ],
   "source": [
    "print(a+b)"
   ]
  },
  {
   "cell_type": "markdown",
   "metadata": {},
   "source": [
    "※markdown 문법 정리\n",
    "\n",
    "[markdown 문법 정리](https://heropy.blog/2017/09/30/markdown/)"
   ]
  },
  {
   "cell_type": "code",
   "execution_count": 9,
   "metadata": {},
   "outputs": [
    {
     "name": "stdout",
     "output_type": "stream",
     "text": [
      "['False', 'None', 'True', 'and', 'as', 'assert', 'async', 'await', 'break', 'class', 'continue', 'def', 'del', 'elif', 'else', 'except', 'finally', 'for', 'from', 'global', 'if', 'import', 'in', 'is', 'lambda', 'nonlocal', 'not', 'or', 'pass', 'raise', 'return', 'try', 'while', 'with', 'yield']\n"
     ]
    }
   ],
   "source": [
    "import keyword\n",
    "print(keyword.kwlist)"
   ]
  },
  {
   "cell_type": "code",
   "execution_count": 1,
   "metadata": {},
   "outputs": [
    {
     "data": {
      "text/plain": [
       "3.14"
      ]
     },
     "execution_count": 1,
     "metadata": {},
     "output_type": "execute_result"
    }
   ],
   "source": [
    "abs(-3.14)"
   ]
  },
  {
   "cell_type": "code",
   "execution_count": 4,
   "metadata": {},
   "outputs": [
    {
     "data": {
      "text/plain": [
       "'\\n\\n함수에 대한 주석을 남길때는 이런식으로\\n\\n'"
      ]
     },
     "execution_count": 4,
     "metadata": {},
     "output_type": "execute_result"
    }
   ],
   "source": [
    "#주석 처리하고 싶은 게 있다면 #을 쓰고\n",
    "\n",
    "'''\n",
    "\n",
    "함수에 대한 주석을 남길때는 이런식으로\n",
    "\n",
    "'''"
   ]
  },
  {
   "cell_type": "code",
   "execution_count": 6,
   "metadata": {},
   "outputs": [
    {
     "data": {
      "text/plain": [
       "1.0"
      ]
     },
     "execution_count": 6,
     "metadata": {},
     "output_type": "execute_result"
    }
   ],
   "source": [
    "5/5"
   ]
  },
  {
   "cell_type": "markdown",
   "metadata": {},
   "source": [
    "# 문자열 및 숫자 출력하기"
   ]
  },
  {
   "cell_type": "code",
   "execution_count": 15,
   "metadata": {},
   "outputs": [
    {
     "name": "stdout",
     "output_type": "stream",
     "text": [
      "hello, world\n",
      "hello python\n",
      "helloworld!\n"
     ]
    }
   ],
   "source": [
    "# 각종 문자열 출력하는 법\n",
    "print(\"hello, world\")\n",
    "print(\"hello\",\"python\")\n",
    "print(\"hello\", \"world!\",sep =\"\")"
   ]
  },
  {
   "cell_type": "code",
   "execution_count": 14,
   "metadata": {},
   "outputs": [
    {
     "name": "stdout",
     "output_type": "stream",
     "text": [
      "hello+world\n",
      "hello+world\n"
     ]
    }
   ],
   "source": [
    "# hello+world 출력하기\n",
    "print(\"hello\",\"+\",\"world\",sep =\"\")\n",
    "print(\"hello\",\"world\", sep=\"+\")"
   ]
  },
  {
   "cell_type": "code",
   "execution_count": 20,
   "metadata": {},
   "outputs": [
    {
     "name": "stdout",
     "output_type": "stream",
     "text": [
      "hello 42\n"
     ]
    }
   ],
   "source": [
    "# 문자열과 숫자 합쳐서 출력하기\n",
    "print(\"hello\",42)"
   ]
  },
  {
   "cell_type": "code",
   "execution_count": 18,
   "metadata": {},
   "outputs": [
    {
     "name": "stdout",
     "output_type": "stream",
     "text": [
      "helloworld!\n"
     ]
    }
   ],
   "source": [
    "# 문자열 합치기\n",
    "print(\"hello\" + \"world!\")"
   ]
  },
  {
   "cell_type": "code",
   "execution_count": 17,
   "metadata": {},
   "outputs": [
    {
     "name": "stdout",
     "output_type": "stream",
     "text": [
      "helloworld\n"
     ]
    }
   ],
   "source": [
    "# 두 줄로 hello world를 각각 프린트하고, 한 줄로 출력되게 만들기\n",
    "print(\"hello\", end=\"\")\n",
    "print(\"world\")"
   ]
  },
  {
   "cell_type": "markdown",
   "metadata": {},
   "source": [
    "# 문자열 포매팅"
   ]
  },
  {
   "cell_type": "code",
   "execution_count": 22,
   "metadata": {},
   "outputs": [
    {
     "name": "stdout",
     "output_type": "stream",
     "text": [
      "이름은 JINJAE, 나이는 27, 주소는 seoul, 키는 177\n"
     ]
    }
   ],
   "source": [
    "# python 3.6이상만 가능\n",
    "# {}안에 변수 입력\n",
    "\n",
    "myname = \"JINJAE\"\n",
    "age = \"27\"\n",
    "add = \"seoul\"\n",
    "height = \"177\"\n",
    "\n",
    "print(f\"이름은 {myname}, 나이는 {age}, 주소는 {add}, 키는 {height}\")\n"
   ]
  },
  {
   "cell_type": "markdown",
   "metadata": {},
   "source": [
    "# 변수\n",
    "- 네이밍 규칙\n",
    "    - 띄워쓰기 안됨\n",
    "    - 대소문자 구분\n",
    "    - 첫 문자는 알파벳 or _\n",
    "    - 키워드 사용 불가\n",
    "    \n",
    "※직관적으로 기능이 떠오르게끔 짓기"
   ]
  },
  {
   "cell_type": "markdown",
   "metadata": {},
   "source": [
    "# 자료형"
   ]
  },
  {
   "cell_type": "code",
   "execution_count": 24,
   "metadata": {},
   "outputs": [],
   "source": [
    "#input은 반드시 str 타입으로 들어감\n",
    "a = input()\n",
    "a_modified=int(a)"
   ]
  },
  {
   "cell_type": "code",
   "execution_count": 25,
   "metadata": {},
   "outputs": [],
   "source": [
    "#이걸 안하려면\n",
    "a = int(input())"
   ]
  },
  {
   "cell_type": "code",
   "execution_count": null,
   "metadata": {},
   "outputs": [],
   "source": [
    "a = int(input(\"숫자를 넣어주세요\"))\n"
   ]
  },
  {
   "cell_type": "markdown",
   "metadata": {},
   "source": [
    "# 이스케이프 문자 : 원래 역할에서 벗어나게 하는 문자\n",
    "\n",
    "- \\n : 한 줄을 내리는 것\n",
    "- \\r : 커서가 젤 앞으로 가는 것\n",
    "- ※요즘 언어는 \\n만 해도 \\r이 알아서 됨\n",
    "\n",
    "\n",
    "abd\\n\\r\n"
   ]
  },
  {
   "cell_type": "code",
   "execution_count": 95,
   "metadata": {},
   "outputs": [
    {
     "name": "stdout",
     "output_type": "stream",
     "text": [
      "''\n"
     ]
    }
   ],
   "source": [
    "# ',\",\\을 str으로써 문자 데이터로 표시하고 싶으면 \\를 입력해라\n",
    "print('\\'\\'')"
   ]
  },
  {
   "cell_type": "code",
   "execution_count": 9,
   "metadata": {},
   "outputs": [
    {
     "name": "stdout",
     "output_type": "stream",
     "text": [
      "|\\ _ /|\n",
      "|q   p|     /}\n",
      "(  0  )\"\"\" \\\n",
      "|\"^\"'       |\n",
      "| |_/ = \\\\__|\n"
     ]
    }
   ],
   "source": [
    "#실습\n",
    "\n",
    "print('|\\ _ /|')\n",
    "print('|q   p|     /}')\n",
    "print('(  0  )\\\"\\\"\\\" \\\\')\n",
    "print('|\\\"^\\\"\\'       |')\n",
    "print('| |_/ = \\\\\\\\__|')"
   ]
  },
  {
   "cell_type": "markdown",
   "metadata": {},
   "source": [
    "# 숫자형 연산하기\n",
    "##  사칙 연산\n",
    "- / : 나누기   \n",
    "- % : 나머지\n",
    "- // : 몫\n",
    "- ** : 제곱"
   ]
  },
  {
   "cell_type": "markdown",
   "metadata": {},
   "source": [
    "\n",
    "# 문자열 연산하기\n",
    "- '+' 연산자 : 문자 연결 기능, 더하기\n",
    "- '*' 연산자 : 문자 반복해서 연결"
   ]
  },
  {
   "cell_type": "code",
   "execution_count": null,
   "metadata": {},
   "outputs": [],
   "source": [
    "# 문자열 함수\n",
    "# index는 0번째부터 시작한다/ index 마지막부터 -1~-n\n",
    "# a   p   p   l   e\n",
    "# 0   1   2   3   4\n",
    "#-5  -4  -3  -2  -1"
   ]
  },
  {
   "cell_type": "code",
   "execution_count": 85,
   "metadata": {},
   "outputs": [
    {
     "data": {
      "text/plain": [
       "'appl'"
      ]
     },
     "execution_count": 85,
     "metadata": {},
     "output_type": "execute_result"
    }
   ],
   "source": [
    "# slice할때는 마지막 인덱스를 포함하지 않는다\n",
    "\"apple\"[0:4]"
   ]
  },
  {
   "cell_type": "code",
   "execution_count": 86,
   "metadata": {},
   "outputs": [
    {
     "data": {
      "text/plain": [
       "'appl'"
      ]
     },
     "execution_count": 86,
     "metadata": {},
     "output_type": "execute_result"
    }
   ],
   "source": [
    "\"apple\"[-5:-1]"
   ]
  },
  {
   "cell_type": "code",
   "execution_count": 94,
   "metadata": {},
   "outputs": [
    {
     "name": "stdout",
     "output_type": "stream",
     "text": [
      "appl\n",
      "ape\n",
      "elpp\n",
      "elppa\n",
      "------------------\n",
      "apple\n",
      "----------------\n",
      "apple\n"
     ]
    }
   ],
   "source": [
    "# 슬라이스\n",
    "# 인수 : [시작, 끝, 간격], 역순으로도 가능하다\n",
    "print(\"apple\"[0:4:1])\n",
    "print(\"apple\"[0:5:2])\n",
    "print(\"apple\"[5:0:-1])\n",
    "print(\"apple\"[-1:-6:-1])\n",
    "# 시작점을 입력안하면 처음부터라는 의미\n",
    "print(\"------------------\")\n",
    "print(\"apple\"[:5])\n",
    "# 끝점을 입력안하면 마지막까지라는 의미\n",
    "print(\"----------------\")\n",
    "print(\"apple\"[0:])"
   ]
  },
  {
   "cell_type": "markdown",
   "metadata": {},
   "source": [
    "# 입력 : input()"
   ]
  },
  {
   "cell_type": "code",
   "execution_count": 108,
   "metadata": {},
   "outputs": [
    {
     "name": "stdout",
     "output_type": "stream",
     "text": [
      "이름을 입력하세요 이진재\n",
      "나이를 입력하세요 27\n",
      "안녕하세요! 이진재님 (27세)\n",
      "이름을 입력하세요 이진재\n",
      "이름을 입력하세요 1997\n",
      "올해 년도를 입력하세요 2024\n",
      "올해는 2024 년 이진재 님의 나이는  27 세 입니다\n"
     ]
    }
   ],
   "source": [
    "#실습\n",
    "#1\n",
    "name = input()\n",
    "age = input()\n",
    "\n",
    "str1 = str(age)\n",
    " \n",
    "print('이름을 입력하세요',name)\n",
    "print('나이를 입력하세요',age)\n",
    "print('안녕하세요! ',name,'님 (', str1,'세)',sep='')\n",
    "\n",
    "#2\n",
    "birthyear = int(input())\n",
    "thisyear = int(input())\n",
    "\n",
    "\n",
    "dif = thisyear - birthyear\n",
    "\n",
    "print('이름을 입력하세요',name)\n",
    "print('태어난 년도를 입력하세요',birthyear)\n",
    "print('올해 년도를 입력하세요', thisyear)\n",
    "print('올해는',thisyear,'년',name,'님의 나이는 ',dif, '세 입니다')"
   ]
  },
  {
   "cell_type": "code",
   "execution_count": 107,
   "metadata": {},
   "outputs": [
    {
     "name": "stdout",
     "output_type": "stream",
     "text": [
      "이름을 입력하세요 이진재\n",
      "이름을 입력하세요 1997\n",
      "올해 년도를 입력하세요 2024\n",
      "올해는 2024 년 이진재 님의 나이는  27 세 입니다\n"
     ]
    }
   ],
   "source": []
  },
  {
   "cell_type": "code",
   "execution_count": 120,
   "metadata": {},
   "outputs": [
    {
     "name": "stdout",
     "output_type": "stream",
     "text": [
      "556\n",
      "492\n",
      "1112\n",
      "5004\n",
      "2224\n",
      "273552\n"
     ]
    }
   ],
   "source": [
    "# 실습4\n",
    "\n",
    "first = int(input())\n",
    "second = input()\n",
    "\n",
    "a = first * int(second[-1:-2:-1])\n",
    "b = first * int(second[-2:-3:-1])\n",
    "c = first * int(second[-3:-4:-1])\n",
    "result = a + (10*b) + (100*c)\n",
    "\n",
    "print(first)\n",
    "print(second) \n",
    "print(a)\n",
    "print(b)\n",
    "print(c)\n",
    "print(result)"
   ]
  },
  {
   "cell_type": "code",
   "execution_count": 121,
   "metadata": {},
   "outputs": [
    {
     "name": "stdout",
     "output_type": "stream",
     "text": [
      "660\n",
      "528\n",
      "1188\n",
      "124740\n"
     ]
    }
   ],
   "source": [
    "#정답\n",
    "in1 = input()\n",
    "in2 = input()\n",
    "\n",
    "print(int(in1)*int(in2[2]))\n",
    "print(int(in1)*int(in2[1]))\n",
    "print(int(in1)*int(in2[0]))\n",
    "print(int(in1)*int(in2))"
   ]
  }
 ],
 "metadata": {
  "kernelspec": {
   "display_name": "base",
   "language": "python",
   "name": "python3"
  },
  "language_info": {
   "codemirror_mode": {
    "name": "ipython",
    "version": 3
   },
   "file_extension": ".py",
   "mimetype": "text/x-python",
   "name": "python",
   "nbconvert_exporter": "python",
   "pygments_lexer": "ipython3",
   "version": "3.11.5"
  }
 },
 "nbformat": 4,
 "nbformat_minor": 2
}
