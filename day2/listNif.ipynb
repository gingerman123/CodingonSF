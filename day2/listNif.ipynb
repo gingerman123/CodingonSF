{
 "cells": [
  {
   "cell_type": "markdown",
   "metadata": {},
   "source": [
    "# 리스트\n",
    "- 문자열이 list냐? x\n",
    "  - but, 문자열은 list가 갖는 특징들은 갖고 있다\n",
    "\n",
    "- 리스트 슬라이싱\n",
    "- sort 오름차순으로 정렬\n",
    "- 원본을 유지하면서 sort 하고 싶을 때 : sorted"
   ]
  },
  {
   "cell_type": "markdown",
   "metadata": {},
   "source": [
    "## 리스트 함수"
   ]
  },
  {
   "cell_type": "code",
   "execution_count": 4,
   "metadata": {},
   "outputs": [
    {
     "name": "stdout",
     "output_type": "stream",
     "text": [
      "[1, 2, 3, 6, 8]\n"
     ]
    }
   ],
   "source": [
    "# 리스트 만들기\n",
    "a=[1,2,3,8,6]\n",
    "# 리스트 오름차순으로 정렬\n",
    "a.sort()\n",
    "print(a)"
   ]
  },
  {
   "cell_type": "code",
   "execution_count": 5,
   "metadata": {},
   "outputs": [
    {
     "name": "stdout",
     "output_type": "stream",
     "text": [
      "[8, 6, 3, 2, 1]\n"
     ]
    }
   ],
   "source": [
    "# reverse() : 뒤집기\n",
    "a.reverse()\n",
    "print(a)"
   ]
  },
  {
   "cell_type": "code",
   "execution_count": null,
   "metadata": {},
   "outputs": [],
   "source": [
    "# append() : 맨 마지막에 요소 추가\n",
    "# remove() : 리스트에서 첫 번째로 나오는 요소 삭제"
   ]
  },
  {
   "cell_type": "code",
   "execution_count": 1,
   "metadata": {},
   "outputs": [
    {
     "name": "stdout",
     "output_type": "stream",
     "text": [
      "['son', 'klu', 'porro', 'madder', 'cuti']\n"
     ]
    }
   ],
   "source": [
    "# insert(idx,item) : idx번째 위치에 item을 삽입\n",
    "tot = ['son', 'klu','porro','cuti']\n",
    "tot.insert(3,\"madder\")\n",
    "\n",
    "print(tot)"
   ]
  },
  {
   "cell_type": "code",
   "execution_count": null,
   "metadata": {},
   "outputs": [],
   "source": [
    "# pop() : 맨 마지막 요소 삭제\n",
    "# -pop(idx) : idx번째 인덱스 위치의 요소 삭제\n",
    "# index(item) : item이 몇 번째 위치에 있는지 값을 반환\n",
    "# -중복된 값이 있으면 제일 앞에 위치 반환\n",
    "# count(item) : list내 item과 같은 이름 가진 요소 개수 세기"
   ]
  },
  {
   "cell_type": "code",
   "execution_count": 26,
   "metadata": {},
   "outputs": [
    {
     "name": "stdout",
     "output_type": "stream",
     "text": [
      "orange\n",
      "['blue', 'green', 'indigo', 'orange', 'purple', 'red', 'yellow']\n",
      "['red', 'orange', 'yellow', 'green', 'blue', 'indigo', 'purple', 'white']\n",
      "['red', 'orange']\n"
     ]
    }
   ],
   "source": [
    "# 실습1\n",
    "\n",
    "rainbow = ['red', 'orange', 'yellow', 'green', 'blue','indigo','purple']\n",
    "\n",
    "print(rainbow[1])\n",
    "\n",
    "print(sorted(rainbow))\n",
    "\n",
    "rainbow.append(\"white\")\n",
    "print(rainbow)\n",
    "\n",
    "del rainbow[2:8]\n",
    "print(rainbow)"
   ]
  },
  {
   "cell_type": "code",
   "execution_count": 81,
   "metadata": {},
   "outputs": [
    {
     "name": "stdout",
     "output_type": "stream",
     "text": [
      "['a', 'b', 'c']\n"
     ]
    },
    {
     "data": {
      "text/plain": [
       "'abc'"
      ]
     },
     "execution_count": 81,
     "metadata": {},
     "output_type": "execute_result"
    }
   ],
   "source": [
    "#리스트 만들기\n",
    "print(list(\"abc\"))\n",
    "\n",
    "mylist = list(\"abc\")\n",
    "# list 안에 있는 모든 문자열을 합치고 싶다/ \"\" 안에 넣는 문자가 list 사이사이에 들어감\n",
    "\"\".join(mylist)"
   ]
  },
  {
   "cell_type": "code",
   "execution_count": 83,
   "metadata": {},
   "outputs": [
    {
     "data": {
      "text/plain": [
       "'cba'"
      ]
     },
     "execution_count": 83,
     "metadata": {},
     "output_type": "execute_result"
    }
   ],
   "source": [
    "# abc 역순으로 출력하기\n",
    "\n",
    "mylist = list(\"abc\")\n",
    "mylist.reverse()\n",
    "\"\".join(mylist)"
   ]
  },
  {
   "cell_type": "code",
   "execution_count": 84,
   "metadata": {},
   "outputs": [
    {
     "name": "stdout",
     "output_type": "stream",
     "text": [
      "cba\n"
     ]
    }
   ],
   "source": [
    "mylist = list(\"abc\")\n",
    "list.reverse(mylist)\n",
    "print(*mylist, sep=\"\")"
   ]
  },
  {
   "cell_type": "markdown",
   "metadata": {},
   "source": [
    "# 조건문"
   ]
  },
  {
   "cell_type": "code",
   "execution_count": 27,
   "metadata": {},
   "outputs": [
    {
     "name": "stdout",
     "output_type": "stream",
     "text": [
      "a>b\n"
     ]
    }
   ],
   "source": [
    "a = 4\n",
    "b = 3\n",
    "\n",
    "if a>b:\n",
    "  print(\"a>b\")"
   ]
  },
  {
   "cell_type": "code",
   "execution_count": 39,
   "metadata": {},
   "outputs": [
    {
     "name": "stdout",
     "output_type": "stream",
     "text": [
      "홀수입니다\n"
     ]
    }
   ],
   "source": [
    "# 실습2\n",
    "num = int(input())\n",
    "\n",
    "if num % 2 ==1:\n",
    "  print('홀수입니다')\n",
    "if num % 2 ==0:\n",
    "  print('짝수입니다')"
   ]
  },
  {
   "cell_type": "code",
   "execution_count": 41,
   "metadata": {},
   "outputs": [
    {
     "name": "stdout",
     "output_type": "stream",
     "text": [
      "5는 홀수입니다\n"
     ]
    }
   ],
   "source": [
    "# 실습2 --ver.2\n",
    "num = int(input(\"숫자를 입력하세요\"))\n",
    "\n",
    "if num % 2 ==1:\n",
    "  print(f'{num}는 홀수입니다')\n",
    "else:\n",
    "  print(f'{num}는 짝수입니다')"
   ]
  },
  {
   "cell_type": "code",
   "execution_count": 48,
   "metadata": {},
   "outputs": [
    {
     "name": "stdout",
     "output_type": "stream",
     "text": [
      "D등급입니다\n"
     ]
    }
   ],
   "source": [
    "# 실습3\n",
    "\n",
    "a = int(input(\"점수를 입력하세요\"))\n",
    "\n",
    "if a >= 90:\n",
    "  print('A등급입니다')\n",
    "elif a >= 80:\n",
    "  print('B등급입니다')\n",
    "elif a >= 70:\n",
    "  print('C등급입니다')\n",
    "elif a >= 60:\n",
    "  print('D등급입니다')\n",
    "else:\n",
    "  print('E등급입니다')  \n",
    "  \n",
    "# 정규 분포를 이룰때는 평균값을 기준으로 잡는게 처리하는게 빠르다"
   ]
  },
  {
   "cell_type": "code",
   "execution_count": 1,
   "metadata": {},
   "outputs": [
    {
     "name": "stdout",
     "output_type": "stream",
     "text": [
      " 15세의 현금 요금은 1000원입니다\n"
     ]
    }
   ],
   "source": [
    "# 실습4\n",
    "\n",
    "age = int(input(\"나이를 숫자로 입력해 주세요\"))\n",
    "pay_method = input(\"결제 방법을 입력해주세요. ('카드' 또는 '현금'만 입력)\")\n",
    "\n",
    "if age >= 75:\n",
    "  print(f' {age}세의 요금은 무료입니다')\n",
    "elif age >= 20:\n",
    "  if pay_method == \"카드\":\n",
    "    print(f' {age}세의 {pay_method} 요금은 1200원입니다')\n",
    "  else:\n",
    "    print(f' {age}세의 {pay_method} 요금은 1300원입니다')\n",
    "elif age >= 14:\n",
    "  if pay_method == \"카드\":\n",
    "    print(f' {age}세의 {pay_method} 요금은 720원입니다')\n",
    "  else:\n",
    "    print(f' {age}세의 {pay_method} 요금은 1000원입니다')\n",
    "elif age >= 8:\n",
    "  print(f' {age}세의 요금은 450원입니다')\n",
    "else:\n",
    "  print(f' {age}세의 요금은 무료입니다')"
   ]
  },
  {
   "cell_type": "code",
   "execution_count": null,
   "metadata": {},
   "outputs": [],
   "source": []
  },
  {
   "cell_type": "code",
   "execution_count": null,
   "metadata": {},
   "outputs": [],
   "source": []
  },
  {
   "cell_type": "code",
   "execution_count": null,
   "metadata": {},
   "outputs": [],
   "source": []
  },
  {
   "cell_type": "code",
   "execution_count": null,
   "metadata": {},
   "outputs": [],
   "source": []
  }
 ],
 "metadata": {
  "kernelspec": {
   "display_name": "base",
   "language": "python",
   "name": "python3"
  },
  "language_info": {
   "codemirror_mode": {
    "name": "ipython",
    "version": 3
   },
   "file_extension": ".py",
   "mimetype": "text/x-python",
   "name": "python",
   "nbconvert_exporter": "python",
   "pygments_lexer": "ipython3",
   "version": "3.11.5"
  }
 },
 "nbformat": 4,
 "nbformat_minor": 2
}
